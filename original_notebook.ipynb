{
  "cells": [
    {
      "metadata": {
        "_uuid": "b030b8b5416e35038dd3ae12d3419b160a5ed78f",
        "_cell_guid": "a239913a-b27f-15e7-8911-53b62bf41c4e"
      },
      "cell_type": "markdown",
      "source": "# Credit card fraud detection\n\n#### This notebook will test different methods on skewed data. The idea is to compare if preprocessing techniques work better when there is an overwhelming majority class that can disrupt the efficiency of our predictive model.\n\n#### You will also be able to see how to apply cross validation for hyperparameter tuning on different classification models. My intention is to create models using:\n1. Logistic Regression\n2. SVMs\n3. Decision trees\n4. I also want to have a try at anomaly detection techniques, but I still have to investigate a bit on that, so any advise will be appreciated!"
    },
    {
      "metadata": {
        "_uuid": "5bdb0ddec03be4606a279eb4122af3832d4f82cc",
        "_cell_guid": "029ecde6-086d-7a8e-de44-363a7a23dbd8",
        "trusted": false,
        "collapsed": true
      },
      "cell_type": "code",
      "source": "import pandas as pd\nimport matplotlib.pyplot as plt\nimport numpy as np\n\n%matplotlib inline",
      "execution_count": null,
      "outputs": []
    },
    {
      "metadata": {
        "_uuid": "2a3ce878f4e23a6b64cfacb0780670ecaba875e7",
        "_cell_guid": "b4de5f93-d467-ad7d-4597-03d5f3e89f86"
      },
      "cell_type": "markdown",
      "source": "# Loading the dataset"
    },
    {
      "metadata": {
        "_uuid": "a7c4b44c199f63a00a9df70c1da9b9d51917a90c",
        "_cell_guid": "7e5ca1e3-3597-19d2-b4be-dffd335df630",
        "trusted": false,
        "collapsed": true
      },
      "cell_type": "code",
      "source": "data = pd.read_csv(\"../input/creditcard.csv\")\ndata.head()",
      "execution_count": null,
      "outputs": []
    },
    {
      "metadata": {
        "_uuid": "8657f6301bc481bb873c057628a4d4f2c0bb44a8",
        "_cell_guid": "6268bbd8-6de5-2389-5693-ecd9a14872d4"
      },
      "cell_type": "markdown",
      "source": "# Checking the target classes"
    },
    {
      "metadata": {
        "_uuid": "af57689d4fbeb8479962ba36c03d03f8b5521188",
        "_cell_guid": "3f6e6674-12e9-6983-5788-5755f80c7ec2",
        "trusted": false,
        "collapsed": true
      },
      "cell_type": "code",
      "source": "count_classes = pd.value_counts(data['Class'], sort = True).sort_index()\ncount_classes.plot(kind = 'bar')\nplt.title(\"Fraud class histogram\")\nplt.xlabel(\"Class\")\nplt.ylabel(\"Frequency\")",
      "execution_count": null,
      "outputs": []
    },
    {
      "metadata": {
        "_uuid": "560abaeafb5b7760d998480d283fe8d7eea3ee3a",
        "_cell_guid": "801dd843-a90b-bb5f-97e7-2da84cc6cd6a"
      },
      "cell_type": "markdown",
      "source": "### Clearly the data is totally unbalanced!! \n\n#### This is a clear example where using a typical accuracy score to evaluate our classification algorithm. For example, if we just used a majority class to assign values to all records, we will still be having a high accuracy, BUT WE WOULD BE CLASSIFYING ALL \"1\" INCORRECTLY!!\n\n#### There are several ways to approach this classification problem taking into consideration this unbalance. \n\n- Collect more data? Nice strategy but not applicable in this case\n- Changing the performance metric:\n    - Use the confusio nmatrix to calculate Precision, Recall\n    - F1score (weighted average of precision recall)\n    - Use Kappa - which is a classification accuracy normalized by the imbalance of the classes in the data\n    - ROC curves - calculates sensitivity/specificity ratio.\n- Resampling the dataset\n    - Essentially this is a method that will process the data to have an approximate 50-50 ratio.\n    - One way to achieve this is by OVER-sampling, which is adding copies of the under-represented class (better when you have little data)\n    - Another is UNDER-sampling, which deletes instances from the over-represented class (better when he have lot's of data)"
    },
    {
      "metadata": {
        "_uuid": "e01bfe0744ccaf6b1003812fe11179d64d21517a",
        "_cell_guid": "555427ea-a862-c64f-9d88-ddbb4f0366a3"
      },
      "cell_type": "markdown",
      "source": "# Approach\n\n1. We are not going to perform feature engineering in first instance. The dataset has been downgraded in order to contain 30 features (28 anonamised + time + amount). \n2. We will then compare what happens when using resampling and when not using it. We will test this approach using a simple logistic regression classifier.\n3. We will evaluate the models by using some of the performance metrics mentioned above.\n4. We will repeat the best resampling/not resampling method, by tuning the parameters in the logistic regression classifier.\n5. We will finally perform classifications model using other classification algorithms."
    },
    {
      "metadata": {
        "_uuid": "06c8be95162733f7ae1eb64e579cfa746c8d4d65",
        "_cell_guid": "fb559c9d-f4fe-5c63-7bdb-14cd3529f660"
      },
      "cell_type": "markdown",
      "source": "# Setting our input and target variables + resampling.\n\n#### 1. Normalising the amount column. The amount column is not in line with the anonimised features."
    },
    {
      "metadata": {
        "_uuid": "a0fbef454a766440600e308848f8cc35df57ef38",
        "_cell_guid": "3fd30a6f-c0ad-5ece-943c-651cdf14d0d6",
        "trusted": false,
        "collapsed": true
      },
      "cell_type": "code",
      "source": "from sklearn.preprocessing import StandardScaler\n\ndata['normAmount'] = StandardScaler().fit_transform(data['Amount'].reshape(-1, 1))\ndata = data.drop(['Time','Amount'],axis=1)\ndata.head()",
      "execution_count": null,
      "outputs": []
    },
    {
      "metadata": {
        "_uuid": "26d6a1a35391d538ccfefa89a10d3e708b3c1934",
        "_cell_guid": "1e02844a-34ff-34ff-51f8-ef074ee2f1d5"
      },
      "cell_type": "markdown",
      "source": "#### 2. Assigning X and Y. No resampling."
    },
    {
      "metadata": {
        "_uuid": "0c44069b322354c7c611e3b2a0647d05d3d2cc1e",
        "_cell_guid": "cfffc4c5-b621-250f-3b6b-6118cef52b9d"
      },
      "cell_type": "markdown",
      "source": "#### 3. Resampling.\n\n- As we mentioned earlier, there are several ways to resample skewed data. Apart from under and over sampling, there is a very popular approach called SMOTE (Synthetic Minority Over-Sampling Technique), which is a combination of oversampling and undersampling, but the oversampling approach is not by replicating minority class but constructing new minority class data instance via an algorithm.\n\n- In this notebook, we will use traditional UNDER-sampling. I will probably try to implement SMOTE in future versions of the code, but for now I will use traditional undersamplig.\n\n- The way we will under sample the dataset will be by creating a 50/50 ratio. This will be done by randomly selecting \"x\" amount of sample from the majority class, being \"x\" the total number of records with the minority class."
    },
    {
      "metadata": {
        "_uuid": "5524cf652d10c0f2bb8a32a305fc25d9cca3ae30",
        "_cell_guid": "c1d874fa-5ea5-edbb-726c-ae98c84e6120",
        "trusted": false,
        "collapsed": true
      },
      "cell_type": "code",
      "source": "X = data.ix[:, data.columns != 'Class']\ny = data.ix[:, data.columns == 'Class']",
      "execution_count": null,
      "outputs": []
    },
    {
      "metadata": {
        "_uuid": "cb1619c29a18cfc7acb232748b2ca5ae21eff212",
        "_cell_guid": "2af7c203-44ed-66b6-6141-ac0d0637fcc6",
        "trusted": false,
        "collapsed": true
      },
      "cell_type": "code",
      "source": "# Number of data points in the minority class\nnumber_records_fraud = len(data[data.Class == 1])\nfraud_indices = np.array(data[data.Class == 1].index)\n\n# Picking the indices of the normal classes\nnormal_indices = data[data.Class == 0].index\n\n# Out of the indices we picked, randomly select \"x\" number (number_records_fraud)\nrandom_normal_indices = np.random.choice(normal_indices, number_records_fraud, replace = False)\nrandom_normal_indices = np.array(random_normal_indices)\n\n# Appending the 2 indices\nunder_sample_indices = np.concatenate([fraud_indices,random_normal_indices])\n\n# Under sample dataset\nunder_sample_data = data.iloc[under_sample_indices,:]\n\nX_undersample = under_sample_data.ix[:, under_sample_data.columns != 'Class']\ny_undersample = under_sample_data.ix[:, under_sample_data.columns == 'Class']\n\n# Showing ratio\nprint(\"Percentage of normal transactions: \", len(under_sample_data[under_sample_data.Class == 0])/len(under_sample_data))\nprint(\"Percentage of fraud transactions: \", len(under_sample_data[under_sample_data.Class == 1])/len(under_sample_data))\nprint(\"Total number of transactions in resampled data: \", len(under_sample_data))",
      "execution_count": null,
      "outputs": []
    },
    {
      "metadata": {
        "_uuid": "e5d3c7d0c9f652439ec011eb9392309f08657703",
        "_cell_guid": "6b74ba73-82a8-3585-b790-44fe486ff19d"
      },
      "cell_type": "markdown",
      "source": "# Splitting data into train and test set. Cross validation will be used when calculating accuracies."
    },
    {
      "metadata": {
        "_uuid": "d96caedb29349fc0dbe3aa4f4bc374355976310a",
        "_cell_guid": "4a725b16-c14a-2be8-8240-617b7b2ed8cd",
        "trusted": false,
        "collapsed": true
      },
      "cell_type": "code",
      "source": "from sklearn.cross_validation import train_test_split\n\n# Whole dataset\nX_train, X_test, y_train, y_test = train_test_split(X,y,test_size = 0.3, random_state = 0)\n\nprint(\"Number transactions train dataset: \", len(X_train))\nprint(\"Number transactions test dataset: \", len(X_test))\nprint(\"Total number of transactions: \", len(X_train)+len(X_test))\n\n# Undersampled dataset\nX_train_undersample, X_test_undersample, y_train_undersample, y_test_undersample = train_test_split(X_undersample\n                                                                                                   ,y_undersample\n                                                                                                   ,test_size = 0.3\n                                                                                                   ,random_state = 0)\nprint(\"\")\nprint(\"Number transactions train dataset: \", len(X_train_undersample))\nprint(\"Number transactions test dataset: \", len(X_test_undersample))\nprint(\"Total number of transactions: \", len(X_train_undersample)+len(X_test_undersample))\n",
      "execution_count": null,
      "outputs": []
    },
    {
      "metadata": {
        "_uuid": "583617b5fa57c3a007d8eec9f6bf92b09dabc7c0",
        "_cell_guid": "6927cc69-57e6-4f34-4680-0b0016d414a0"
      },
      "cell_type": "markdown",
      "source": "# Logistic regression classifier - Undersampled data\n\n#### We are very interested in the recall score, because that is the metric that will help us try to capture the most fraudulent transactions. If you think how Accuracy, Precision and Recall work for a confusion matrix, recall would be the most interesting:\n\n- Accuracy = (TP+TN)/total\n- Precision = TP/(TP+FP)\n- Recall = TP/(TP+FN)\n\n#### As we know, due to the imbalacing of the data, many observations could be predicted as False Negatives, being, that we predict a normal transaction, but it is in fact a fraudulent one. Recall captures this.\n- Obviously, trying to increase recall, tends to come with a decrease of precision. However, in our case, if we predict that a transaction is fraudulent and turns out not to be, is not a massive problem compared to the opposite. \n- We could even apply a cost function when having FN and FP with different weights for each type of error, but let's leave that aside for now."
    },
    {
      "metadata": {
        "_uuid": "868917015d7d22d9653e18424d3ae66a807adb94",
        "_cell_guid": "9c7ec815-da54-993b-ef8d-b41b767cfacf",
        "trusted": false,
        "collapsed": true
      },
      "cell_type": "code",
      "source": "from sklearn.linear_model import LogisticRegression\nfrom sklearn.cross_validation import KFold, cross_val_score\nfrom sklearn.metrics import confusion_matrix,precision_recall_curve,auc,roc_auc_score,roc_curve,recall_score,classification_report ",
      "execution_count": null,
      "outputs": []
    },
    {
      "metadata": {
        "_uuid": "dc6a6d7b83c14af1b5052c1f56f66ae613f41f06",
        "_cell_guid": "88765ef8-cb56-860a-d249-9691d90afcb2"
      },
      "cell_type": "markdown",
      "source": "#### Very ad-hoc function to print K_fold_scores"
    },
    {
      "metadata": {
        "_uuid": "12256d0b089513e011b3dff110dfbf72bd781584",
        "_cell_guid": "069bc837-cfd1-006e-c589-7085d5d29a8e",
        "trusted": false,
        "collapsed": true
      },
      "cell_type": "code",
      "source": "def printing_Kfold_scores(x_train_data,y_train_data):\n    fold = KFold(len(y_train_data),5,shuffle=False) \n\n    # Different C parameters\n    c_param_range = [0.01,0.1,1,10,100]\n\n    results_table = pd.DataFrame(index = range(len(c_param_range),2), columns = ['C_parameter','Mean recall score'])\n    results_table['C_parameter'] = c_param_range\n\n    # the k-fold will give 2 lists: train_indices = indices[0], test_indices = indices[1]\n    j = 0\n    for c_param in c_param_range:\n        print('-------------------------------------------')\n        print('C parameter: ', c_param)\n        print('-------------------------------------------')\n        print('')\n\n        recall_accs = []\n        for iteration, indices in enumerate(fold,start=1):\n\n            # Call the logistic regression model with a certain C parameter\n            lr = LogisticRegression(C = c_param, penalty = 'l1')\n\n            # Use the training data to fit the model. In this case, we use the portion of the fold to train the model\n            # with indices[0]. We then predict on the portion assigned as the 'test cross validation' with indices[1]\n            lr.fit(x_train_data.iloc[indices[0],:],y_train_data.iloc[indices[0],:].values.ravel())\n\n            # Predict values using the test indices in the training data\n            y_pred_undersample = lr.predict(x_train_data.iloc[indices[1],:].values)\n\n            # Calculate the recall score and append it to a list for recall scores representing the current c_parameter\n            recall_acc = recall_score(y_train_data.iloc[indices[1],:].values,y_pred_undersample)\n            recall_accs.append(recall_acc)\n            print('Iteration ', iteration,': recall score = ', recall_acc)\n\n        # The mean value of those recall scores is the metric we want to save and get hold of.\n        results_table.ix[j,'Mean recall score'] = np.mean(recall_accs)\n        j += 1\n        print('')\n        print('Mean recall score ', np.mean(recall_accs))\n        print('')\n\n    best_c = results_table.loc[results_table['Mean recall score'].idxmax()]['C_parameter']\n    \n    # Finally, we can check which C parameter is the best amongst the chosen.\n    print('*********************************************************************************')\n    print('Best model to choose from cross validation is with C parameter = ', best_c)\n    print('*********************************************************************************')\n    \n    return best_c",
      "execution_count": null,
      "outputs": []
    },
    {
      "metadata": {
        "_uuid": "bf568b33ecdcb9312c0bcdad7975cde3173f7f3b",
        "_cell_guid": "983c1c75-8092-9a8e-40ca-754fde9e2301",
        "trusted": false,
        "collapsed": true
      },
      "cell_type": "code",
      "source": "best_c = printing_Kfold_scores(X_train_undersample,y_train_undersample)",
      "execution_count": null,
      "outputs": []
    },
    {
      "metadata": {
        "_uuid": "dbc15ca1d02c2556c86a97e76aedcb029cee0450",
        "_cell_guid": "bdb1ff38-9d27-ae15-58df-9be4e4f76550"
      },
      "cell_type": "markdown",
      "source": "#### Create a function to plot a fancy confusion matrix"
    },
    {
      "metadata": {
        "_uuid": "8f3f48cdcd765abee9ea27f1f4eca72d90d2c182",
        "_cell_guid": "f5b049b3-4f9a-f5bb-db3d-6c48e9b1e1a5",
        "trusted": false,
        "collapsed": true
      },
      "cell_type": "code",
      "source": "import itertools\n\ndef plot_confusion_matrix(cm, classes,\n                          normalize=False,\n                          title='Confusion matrix',\n                          cmap=plt.cm.Blues):\n    \"\"\"\n    This function prints and plots the confusion matrix.\n    Normalization can be applied by setting `normalize=True`.\n    \"\"\"\n    plt.imshow(cm, interpolation='nearest', cmap=cmap)\n    plt.title(title)\n    plt.colorbar()\n    tick_marks = np.arange(len(classes))\n    plt.xticks(tick_marks, classes, rotation=0)\n    plt.yticks(tick_marks, classes)\n\n    if normalize:\n        cm = cm.astype('float') / cm.sum(axis=1)[:, np.newaxis]\n        #print(\"Normalized confusion matrix\")\n    else:\n        1#print('Confusion matrix, without normalization')\n\n    #print(cm)\n\n    thresh = cm.max() / 2.\n    for i, j in itertools.product(range(cm.shape[0]), range(cm.shape[1])):\n        plt.text(j, i, cm[i, j],\n                 horizontalalignment=\"center\",\n                 color=\"white\" if cm[i, j] > thresh else \"black\")\n\n    plt.tight_layout()\n    plt.ylabel('True label')\n    plt.xlabel('Predicted label')",
      "execution_count": null,
      "outputs": []
    },
    {
      "metadata": {
        "_uuid": "39338a5133240acb37a1d676631f75b45b21a015",
        "_cell_guid": "e40b554a-5b88-2828-f655-d54560ad7480"
      },
      "cell_type": "markdown",
      "source": "### Predictions on test set and plotting confusion matrix\n\n#### We have been talking about using the recall metric as our proxy of how effective our predictive model is. Even though recall is still the recall we want to calculate, just bear mind in mind that the undersampled data hasn't got a skewness towards a certain class, which doesn't make recall metric as critical. "
    },
    {
      "metadata": {
        "_uuid": "17c6f429a55dcc580a8a72c084864af74efee198",
        "_cell_guid": "5c8e4c0e-8cfd-7422-04a8-1b47b8531267",
        "trusted": false,
        "collapsed": true
      },
      "cell_type": "code",
      "source": "# Use this C_parameter to build the final model with the whole training dataset and predict the classes in the test\n# dataset\nlr = LogisticRegression(C = best_c, penalty = 'l1')\nlr.fit(X_train_undersample,y_train_undersample.values.ravel())\ny_pred_undersample = lr.predict(X_test_undersample.values)\n\n# Compute confusion matrix\ncnf_matrix = confusion_matrix(y_test_undersample,y_pred_undersample)\nnp.set_printoptions(precision=2)\n\nprint(\"Recall metric in the testing dataset: \", cnf_matrix[1,1]/(cnf_matrix[1,0]+cnf_matrix[1,1]))\n\n# Plot non-normalized confusion matrix\nclass_names = [0,1]\nplt.figure()\nplot_confusion_matrix(cnf_matrix\n                      , classes=class_names\n                      , title='Confusion matrix')\nplt.show()",
      "execution_count": null,
      "outputs": []
    },
    {
      "metadata": {
        "_uuid": "f8d02c6a2194f2f017498242ec8fe2f2da16abfa",
        "_cell_guid": "3aee694e-c838-434a-0cb6-dafaa3a0b224"
      },
      "cell_type": "markdown",
      "source": "#### So, the model is offering an 93.2% recall accuracy on the generalised unseen data (test set). Not a bad percentage to be the first try. However, recall this is a 93.2% recall accuracy measure on the undersampled test set.\n\n### Being happy with this result, let's apply the model we fitted and test it on the whole data."
    },
    {
      "metadata": {
        "_uuid": "b2ee8a2d358d0fd313ae3d309594e70b9f0206d7",
        "_cell_guid": "2fac80a6-cc45-49e8-3fd6-2322e2461955",
        "trusted": false,
        "collapsed": true
      },
      "cell_type": "code",
      "source": "# Use this C_parameter to build the final model with the whole training dataset and predict the classes in the test\n# dataset\nlr = LogisticRegression(C = best_c, penalty = 'l1')\nlr.fit(X_train_undersample,y_train_undersample.values.ravel())\ny_pred = lr.predict(X_test.values)\n\n# Compute confusion matrix\ncnf_matrix = confusion_matrix(y_test,y_pred)\nnp.set_printoptions(precision=2)\n\nprint(\"Recall metric in the testing dataset: \", cnf_matrix[1,1]/(cnf_matrix[1,0]+cnf_matrix[1,1]))\n\n# Plot non-normalized confusion matrix\nclass_names = [0,1]\nplt.figure()\nplot_confusion_matrix(cnf_matrix\n                      , classes=class_names\n                      , title='Confusion matrix')\nplt.show()",
      "execution_count": null,
      "outputs": []
    },
    {
      "metadata": {
        "_uuid": "37747d418a52e8ffa0dd1b107a6726202dac936c",
        "_cell_guid": "e90966bc-2fb9-8442-4705-340d15a79b66"
      },
      "cell_type": "markdown",
      "source": "### Still a very decent recall accuracy when applying it to a much larger and skewed dataset! \n\n#### We can start to be happy with how initial approach is working."
    },
    {
      "metadata": {
        "_uuid": "145140244a9536d8188ebdc6710a6d13836b50c5",
        "_cell_guid": "29bf4990-1b01-52fc-6c37-d4414b0aafa7"
      },
      "cell_type": "markdown",
      "source": "### Plotting ROC curve and Precision-Recall curve.\n\n- I find precision-recall curve much more convenient in this case as our problems relies on the \"positive\" class being more interesting than the negative class, but as we have calculated the recall precision, I am not going to plot the precision recall curves yet.\n\n- AUC and ROC curve are also interesting to check if the model is also predicting as a whole correctly and not making many errors"
    },
    {
      "metadata": {
        "_uuid": "777701e9283810045dd7183ae861c27955e56ed1",
        "_cell_guid": "4a0d3339-cb16-5899-0b0e-f86636284a63",
        "trusted": false,
        "collapsed": true
      },
      "cell_type": "code",
      "source": "# ROC CURVE\nlr = LogisticRegression(C = best_c, penalty = 'l1')\ny_pred_undersample_score = lr.fit(X_train_undersample,y_train_undersample.values.ravel()).decision_function(X_test_undersample.values)\n\nfpr, tpr, thresholds = roc_curve(y_test_undersample.values.ravel(),y_pred_undersample_score)\nroc_auc = auc(fpr,tpr)\n\n# Plot ROC\nplt.title('Receiver Operating Characteristic')\nplt.plot(fpr, tpr, 'b',label='AUC = %0.2f'% roc_auc)\nplt.legend(loc='lower right')\nplt.plot([0,1],[0,1],'r--')\nplt.xlim([-0.1,1.0])\nplt.ylim([-0.1,1.01])\nplt.ylabel('True Positive Rate')\nplt.xlabel('False Positive Rate')\nplt.show()",
      "execution_count": null,
      "outputs": []
    },
    {
      "metadata": {
        "_uuid": "bb4691d2adb0e3762daf5750703a5ded3966d67e",
        "_cell_guid": "1f1e40a4-bca8-87ad-f368-d0b50e7d6158"
      },
      "cell_type": "markdown",
      "source": "#### An additional comment that would be interesting to do is to initialise multiple undersampled datasets and repeat the process in loop. Remember that, to create an undersample data, we randomly got records from the majority class. Even though this is a valid technique, is doesn't represent the real population, so it would be interesting to repeat the process with different undersample configurations and check if the previous chosen parameters are still the most effective. In the end, the idea is to use a wider random representation of the whole dataset and rely on the averaged best parameters."
    },
    {
      "metadata": {
        "_uuid": "61491486d46b60a1d252640345b1fe2c9fde35cd",
        "_cell_guid": "2e0e6bfc-37ac-2d2e-61af-7118619fdf27"
      },
      "cell_type": "markdown",
      "source": "# Logistic regression classifier - Skewed data\n\n#### Having tested our previous approach, I find really interesting to test the same process on the skewed data. Our intuition is that skewness will introduce issues difficult to capture, and therefore, provide a less effective algorithm.\n- To be fair, taking into account the fact that the train and test datasets are substantially bigger than the undersampled ones, I believe a K-fold cross validation is necessary. I guess that by splitting the data with 60% in training set, 20% cross validation and 20% test should be enough... but let's take the same approach as before (no harm on this, it's just that K-fold is computationally more expensive)"
    },
    {
      "metadata": {
        "_uuid": "9e550fd4e137bf10fcdf93269157f99b54b77704",
        "_cell_guid": "2aaf245f-43cd-d543-b857-562fb696fc4e",
        "trusted": false,
        "collapsed": true
      },
      "cell_type": "code",
      "source": "best_c = printing_Kfold_scores(X_train,y_train)",
      "execution_count": null,
      "outputs": []
    },
    {
      "metadata": {
        "_uuid": "7000c37986a100dfbd91bee72e37a56992dba3e7",
        "_cell_guid": "634c1907-a5c5-888c-c2e9-da73f81ee445",
        "trusted": false,
        "collapsed": true
      },
      "cell_type": "code",
      "source": "# Use this C_parameter to build the final model with the whole training dataset and predict the classes in the test\n# dataset\nlr = LogisticRegression(C = best_c, penalty = 'l1')\nlr.fit(X_train,y_train.values.ravel())\ny_pred_undersample = lr.predict(X_test.values)\n\n# Compute confusion matrix\ncnf_matrix = confusion_matrix(y_test,y_pred_undersample)\nnp.set_printoptions(precision=2)\n\nprint(\"Recall metric in the testing dataset: \", cnf_matrix[1,1]/(cnf_matrix[1,0]+cnf_matrix[1,1]))\n\n# Plot non-normalized confusion matrix\nclass_names = [0,1]\nplt.figure()\nplot_confusion_matrix(cnf_matrix\n                      , classes=class_names\n                      , title='Confusion matrix')\nplt.show()",
      "execution_count": null,
      "outputs": []
    },
    {
      "metadata": {
        "_uuid": "08529236686266b874c5ef935f81d21d7b7c9a63",
        "_cell_guid": "f409ba42-8534-e960-0869-00b1e4e73d65"
      },
      "cell_type": "markdown",
      "source": "# Before continuing... changing classification threshold.\n\n#### We have seen that by undersampling the data, our algorithm does a much better job at detecting fraud. I wanted also to show how can we tweak our final classification by changing the thresold.\n- Initially, you build the classification model and then you predict unseen data using it.\n- We previously used the \"predict()\" method to decided whether a record should belong to \"1\" or \"0\". \n- There is another method \"predict_proba()\".\n    - This method returns the probabilities for each class. The idea is that by changing the threshold to assign a record to class 1, we can control precision and recall.\n    \n#### Let's check this using the undersampled data (best C_param = 0.01)"
    },
    {
      "metadata": {
        "_uuid": "eee9c6e5ff0ae466014a8040ad1ebe1247af5a5d",
        "_cell_guid": "a1275e7d-48fc-e0bd-c629-6ddf698b47b5",
        "trusted": false,
        "collapsed": true
      },
      "cell_type": "code",
      "source": "lr = LogisticRegression(C = 0.01, penalty = 'l1')\nlr.fit(X_train_undersample,y_train_undersample.values.ravel())\ny_pred_undersample_proba = lr.predict_proba(X_test_undersample.values)\n\nthresholds = [0.1,0.2,0.3,0.4,0.5,0.6,0.7,0.8,0.9]\n\nplt.figure(figsize=(10,10))\n\nj = 1\nfor i in thresholds:\n    y_test_predictions_high_recall = y_pred_undersample_proba[:,1] > i\n    \n    plt.subplot(3,3,j)\n    j += 1\n    \n    # Compute confusion matrix\n    cnf_matrix = confusion_matrix(y_test_undersample,y_test_predictions_high_recall)\n    np.set_printoptions(precision=2)\n\n    print(\"Recall metric in the testing dataset: \", cnf_matrix[1,1]/(cnf_matrix[1,0]+cnf_matrix[1,1]))\n\n    # Plot non-normalized confusion matrix\n    class_names = [0,1]\n    plot_confusion_matrix(cnf_matrix\n                          , classes=class_names\n                          , title='Threshold >= %s'%i) ",
      "execution_count": null,
      "outputs": []
    },
    {
      "metadata": {
        "_uuid": "99fc2decbce7abcec64768ae64e2d02ba20ce903",
        "_cell_guid": "cdf08467-7947-a71b-3d00-7b060905bbdb"
      },
      "cell_type": "markdown",
      "source": "### The pattern is very clear: the more you lower the required probability to put a certain in the class \"1\" category, more records will be put in that bucket.\n#### This implies an increase in recall (we want all the \"1\"s), but at the same time, a decrease in precision (we misclassify many of the other class).\n### Therefore, even though recall is our goal metric (do not miss a fraud transaction), we also want to keep the model being accurate as a whole.\n- There is an option I think could be quite interesting to tackle this. We could assing cost to misclassifications, but being interested in classifying \"1s\" correctly, the cost for misclassifying \"1s\" should be bigger than \"0\" misclassifications. After that, the algorithm would select the threshold which minimises the total cost. A drawback I see is that we have to manually select the weight of each cost... therefore, I will leave this know as a thought.\n- Going back to the threshold changing, there is an option which is the Precisio-Recall curve. By visually seeing the performance of the model depending on the threshold we choose, we can investigate a sweet spot where recall is high enough whilst keeping a high precision value.\n\n### Investigate Precision-Recall curve and area under this curve."
    },
    {
      "metadata": {
        "_uuid": "509143b3bc0e94065e2c7328a9374ab506508b5f",
        "_cell_guid": "c73b727b-6743-add2-a45f-a83ce5b8b375",
        "trusted": false,
        "collapsed": true
      },
      "cell_type": "code",
      "source": "from itertools import cycle\n\nlr = LogisticRegression(C = 0.01, penalty = 'l1')\nlr.fit(X_train_undersample,y_train_undersample.values.ravel())\ny_pred_undersample_proba = lr.predict_proba(X_test_undersample.values)\n\nthresholds = [0.1,0.2,0.3,0.4,0.5,0.6,0.7,0.8,0.9]\ncolors = cycle(['navy', 'turquoise', 'darkorange', 'cornflowerblue', 'teal', 'red', 'yellow', 'green', 'blue','black'])\n\nplt.figure(figsize=(5,5))\n\nj = 1\nfor i,color in zip(thresholds,colors):\n    y_test_predictions_prob = y_pred_undersample_proba[:,1] > i\n    \n    precision, recall, thresholds = precision_recall_curve(y_test_undersample,y_test_predictions_prob)\n    \n    # Plot Precision-Recall curve\n    plt.plot(recall, precision, color=color,\n                 label='Threshold: %s'%i)\n    plt.xlabel('Recall')\n    plt.ylabel('Precision')\n    plt.ylim([0.0, 1.05])\n    plt.xlim([0.0, 1.0])\n    plt.title('Precision-Recall example')\n    plt.legend(loc=\"lower left\")",
      "execution_count": null,
      "outputs": []
    },
    {
      "metadata": {
        "_uuid": "0cd93c3022c2647451e9e7757d686d2ab1b3659f",
        "_cell_guid": "96c3a75c-0333-e22f-958e-036c0e0d337d"
      },
      "cell_type": "markdown",
      "source": "# Upcoming updates: \n## testing SVMs\n## testing decision trees"
    }
  ],
  "metadata": {
    "language_info": {
      "name": "python",
      "version": "3.6.3",
      "mimetype": "text/x-python",
      "codemirror_mode": {
        "name": "ipython",
        "version": 3
      },
      "pygments_lexer": "ipython3",
      "nbconvert_exporter": "python",
      "file_extension": ".py"
    },
    "_is_fork": false,
    "kernelspec": {
      "display_name": "Python 3",
      "language": "python",
      "name": "python3"
    },
    "_change_revision": 0
  },
  "nbformat": 4,
  "nbformat_minor": 1
}